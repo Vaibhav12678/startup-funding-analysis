{
 "cells": [
  {
   "cell_type": "markdown",
   "id": "e0f90bd0",
   "metadata": {},
   "source": [
    "#  Exploratory Data Analysis - Startup Funding\n"
   ]
  },
  {
   "cell_type": "markdown",
   "id": "d2cf0d42",
   "metadata": {},
   "source": [
    "## 📌 Objective\n",
    "This notebook answers key business questions like:\n",
    "- Which year had the highest number of fundings?\n",
    "- Which startup raised the most money?\n",
    "- What is the average funding per city?\n",
    "- Which investment type attracts the highest funding?\n",
    "- Who are the top 5 most active investors?\n"
   ]
  },
  {
   "cell_type": "code",
   "execution_count": 5,
   "id": "7526594c",
   "metadata": {},
   "outputs": [],
   "source": [
    "import pandas as pd\n",
    "df = pd.read_csv('cleaned_startup_funding.csv')  # or use the cleaned dataframe directly\n"
   ]
  },
  {
   "cell_type": "markdown",
   "id": "9d899ca8",
   "metadata": {},
   "source": [
    "### 📊  Which year had the highest number of fundings?"
   ]
  },
  {
   "cell_type": "code",
   "execution_count": 10,
   "id": "89c288eb",
   "metadata": {},
   "outputs": [
    {
     "name": "stdout",
     "output_type": "stream",
     "text": [
      "Year\n",
      "2015    2139\n",
      "2016     399\n",
      "2017     294\n",
      "2018     136\n",
      "2019      67\n",
      "2020       5\n",
      "Name: count, dtype: int64\n"
     ]
    },
    {
     "data": {
      "text/plain": [
       "<Axes: title={'center': 'Startups Funding Per Year'}, xlabel='Year'>"
      ]
     },
     "execution_count": 10,
     "metadata": {},
     "output_type": "execute_result"
    },
    {
     "data": {
      "image/png": "[encoded data removed]",
      "text/plain": [
       "<Figure size 640x480 with 1 Axes>"
      ]
     },
     "metadata": {},
     "output_type": "display_data"
    }
   ],
   "source": [
    "funding_per_year=df['Year'].value_counts().sort_index()\n",
    "print(funding_per_year)\n",
    "funding_per_year.plot(kind='bar',title='Startups Funding Per Year')"
   ]
  },
  {
   "cell_type": "markdown",
   "id": "2f505640",
   "metadata": {},
   "source": [
    "### 💰 Which startup raised the most money?"
   ]
  },
  {
   "cell_type": "code",
   "execution_count": 12,
   "id": "1371eab2",
   "metadata": {},
   "outputs": [
    {
     "name": "stdout",
     "output_type": "stream",
     "text": [
      "        Startup Name  Amount in USD\n",
      "59  rapido bike taxi   3.900000e+09\n"
     ]
    }
   ],
   "source": [
    "top_startups=df[['Startup Name','Amount in USD']].sort_values(by='Amount in USD',ascending=False).head(1)\n",
    "print(top_startups)"
   ]
  },
  {
   "cell_type": "markdown",
   "id": "f3e7cd57",
   "metadata": {},
   "source": [
    "### 🏙️  What is the average funding amount per city?"
   ]
  },
  {
   "cell_type": "code",
   "execution_count": 13,
   "id": "5f58543a",
   "metadata": {},
   "outputs": [
    {
     "name": "stdout",
     "output_type": "stream",
     "text": [
      "City Location\n",
      "\\\\xc2\\\\xa0noida        2.020000e+09\n",
      "\\\\xc2\\\\xa0mumbai       2.019350e+09\n",
      "\\\\xc2\\\\xa0bangalore    2.016200e+09\n",
      "\\\\xc2\\\\xa0new delhi    6.768667e+08\n",
      "menlo park             4.500000e+08\n",
      "california             3.000000e+08\n",
      "india/singapore        2.260000e+08\n",
      "kormangala             1.420000e+08\n",
      "san jose,              1.350000e+08\n",
      "santa monica           1.100000e+08\n",
      "Name: Amount in USD, dtype: float64\n"
     ]
    }
   ],
   "source": [
    "avg_funding_city=df.groupby('City Location')['Amount in USD'].mean().sort_values(ascending=False)\n",
    "print(avg_funding_city.head(10))"
   ]
  },
  {
   "cell_type": "markdown",
   "id": "61e2ddc2",
   "metadata": {},
   "source": [
    "### 💼  Which investment type brings the highest funding?"
   ]
  },
  {
   "cell_type": "code",
   "execution_count": 16,
   "id": "476c6b9a",
   "metadata": {},
   "outputs": [
    {
     "name": "stdout",
     "output_type": "stream",
     "text": [
      "InvestmentType\n",
      "private equity    3.540449e+10\n",
      "Name: Amount in USD, dtype: float64\n"
     ]
    }
   ],
   "source": [
    "Investment_type_total=df.groupby('InvestmentType')['Amount in USD'].sum().sort_values(ascending=False)\n",
    "print(Investment_type_total.head(1))"
   ]
  },
  {
   "cell_type": "markdown",
   "id": "89a1427e",
   "metadata": {},
   "source": [
    "### 🏆  Who are the top 5 most active investors?"
   ]
  },
  {
   "cell_type": "code",
   "execution_count": 17,
   "id": "e0e79bca",
   "metadata": {},
   "outputs": [
    {
     "name": "stdout",
     "output_type": "stream",
     "text": [
      "Investors Name\n",
      "undisclosed investors    80\n",
      "ratan tata               25\n",
      "indian angel network     24\n",
      "undisclosed investor     24\n",
      "Undisclosed              24\n",
      "Name: count, dtype: int64\n"
     ]
    }
   ],
   "source": [
    "top_investors=df['Investors Name'].value_counts().head(5)\n",
    "print(top_investors)"
   ]
  },
  {
   "cell_type": "code",
   "execution_count": null,
   "id": "fc155ea2",
   "metadata": {},
   "outputs": [],
   "source": []
  }
 ],
 "metadata": {
  "kernelspec": {
   "display_name": "udemy-env",
   "language": "python",
   "name": "python3"
  },
  "language_info": {
   "codemirror_mode": {
    "name": "ipython",
    "version": 3
   },
   "file_extension": ".py",
   "mimetype": "text/x-python",
   "name": "python",
   "nbconvert_exporter": "python",
   "pygments_lexer": "ipython3",
   "version": "3.11.13"
  }
 },
 "nbformat": 4,
 "nbformat_minor": 5
}
